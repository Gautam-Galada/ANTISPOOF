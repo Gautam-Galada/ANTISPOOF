{
  "cells": [
    {
      "cell_type": "markdown",
      "source": [
        "CONNECT TO WANDB"
      ],
      "metadata": {
        "id": "QFcMv-8phmQR"
      }
    },
    {
      "cell_type": "code",
      "execution_count": null,
      "metadata": {
        "colab": {
          "background_save": true
        },
        "id": "F-CKiFADZUmC"
      },
      "outputs": [],
      "source": [
        "!pip install wandb -qU"
      ]
    },
    {
      "cell_type": "code",
      "execution_count": null,
      "metadata": {
        "id": "S87madDh8JN-"
      },
      "outputs": [],
      "source": [
        "from google.colab import drive\n",
        "drive.mount('/content/drive')"
      ]
    },
    {
      "cell_type": "code",
      "execution_count": null,
      "metadata": {
        "id": "D_hekBjvOd2R"
      },
      "outputs": [],
      "source": [
        "import os\n",
        "import numpy as np\n",
        "import tensorflow as tf\n",
        "from tensorflow.keras import layers\n",
        "from tensorflow.keras.applications import EfficientNetB3\n",
        "import wandb\n",
        "from wandb.keras import WandbCallback\n",
        "import shutil"
      ]
    },
    {
      "cell_type": "markdown",
      "source": [
        "WANDB API LOGIN"
      ],
      "metadata": {
        "id": "5mqxN4hxhrhh"
      }
    },
    {
      "cell_type": "code",
      "execution_count": null,
      "metadata": {
        "id": "QQnl2n9rbHMD"
      },
      "outputs": [],
      "source": [
        "wandb.login()\n",
        "run_id = ''\n",
        "wandb.init(id=run_id, resume=\"must\")"
      ]
    },
    {
      "cell_type": "code",
      "execution_count": null,
      "metadata": {
        "id": "mUsBKZA3177f"
      },
      "outputs": [],
      "source": [
        "# wandb.init()"
      ]
    },
    {
      "cell_type": "code",
      "execution_count": null,
      "metadata": {
        "id": "V9V5vC_sVNKa"
      },
      "outputs": [],
      "source": [
        "train_x = np.load('data/trainx.npy')\n",
        "train_y = np.load('data/trainy.npy')\n",
        "test_x = np.load('data/testx.npy')\n",
        "test_y = np.load('data/testy.npy')"
      ]
    },
    {
      "cell_type": "code",
      "execution_count": null,
      "metadata": {
        "id": "wgH-JWR5W2TS"
      },
      "outputs": [],
      "source": [
        "NUM_CLASSES = 4\n",
        "IMG_SIZE = 300\n",
        "size = (IMG_SIZE, IMG_SIZE)\n",
        "inputs = layers.Input(shape=(IMG_SIZE, IMG_SIZE, 3))\n",
        "outputs = EfficientNetB3(include_top=True, weights=None, classes=NUM_CLASSES)(inputs)\n",
        "\n",
        "checkpoint_path = \"model-trained/cp.ckpt\"\n",
        "checkpoint_dir = os.path.dirname(checkpoint_path)\n",
        "cp_callback = tf.keras.callbacks.ModelCheckpoint(filepath=checkpoint_path,\n",
        "                                                 save_weights_only=True,\n",
        "                                                 verbose=1)"
      ]
    },
    {
      "cell_type": "code",
      "execution_count": null,
      "metadata": {
        "colab": {
          "base_uri": "https://localhost:8080/"
        },
        "id": "XDzFgAKkdc0V",
        "outputId": "7c1da26d-7a49-410b-9caa-9287b84778f0"
      },
      "outputs": [
        {
          "name": "stdout",
          "output_type": "stream",
          "text": [
            "Model: \"model_4\"\n",
            "_________________________________________________________________\n",
            " Layer (type)                Output Shape              Param #   \n",
            "=================================================================\n",
            " input_3 (InputLayer)        [(None, 300, 300, 3)]     0         \n",
            "                                                                 \n",
            " efficientnetb3 (Functional)  (None, 4)                10789683  \n",
            "                                                                 \n",
            "=================================================================\n",
            "Total params: 10,789,683\n",
            "Trainable params: 10,702,380\n",
            "Non-trainable params: 87,303\n",
            "_________________________________________________________________\n"
          ]
        }
      ],
      "source": [
        "model = tf.keras.Model(inputs, outputs)\n",
        "model.compile(optimizer=tf.keras.optimizers.SGD(learning_rate=0.00001, nesterov=True, name=\"SGD\"), loss=\"categorical_crossentropy\", metrics=[\"accuracy\"],jit_compile=True )\n",
        "model.summary()"
      ]
    },
    {
      "cell_type": "markdown",
      "source": [
        "IF MODEL IS PRE-TRAINED"
      ],
      "metadata": {
        "id": "weBT15LiiiYA"
      }
    },
    {
      "cell_type": "code",
      "execution_count": null,
      "metadata": {
        "id": "reuxsRQudEyl"
      },
      "outputs": [],
      "source": [
        "model.load_weights(checkpoint_path)"
      ]
    },
    {
      "cell_type": "code",
      "execution_count": null,
      "metadata": {
        "id": "JD7sWfDOdMJd"
      },
      "outputs": [],
      "source": [
        "with tf.device('/GPU:0'):\n",
        "  hist = model.fit(train_x, train_y, validation_split=0.2, epochs=5, verbose=2, callbacks=[cp_callback])"
      ]
    },
    {
      "cell_type": "code",
      "execution_count": null,
      "metadata": {
        "id": "0hA7OKa5YxiW"
      },
      "outputs": [],
      "source": [
        "wandb.save('/content/training_1/*ckpt*')\n",
        "wandb.save(os.path.join(wandb.run.dir, \"/content/training_1/checkpoint*\"))"
      ]
    }
  ],
  "metadata": {
    "accelerator": "GPU",
    "colab": {
      "provenance": []
    },
    "kernelspec": {
      "display_name": "Python 3",
      "name": "python3"
    },
    "language_info": {
      "name": "python"
    }
  },
  "nbformat": 4,
  "nbformat_minor": 0
}